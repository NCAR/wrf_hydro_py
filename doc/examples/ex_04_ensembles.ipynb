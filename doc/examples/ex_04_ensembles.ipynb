{
 "cells": [
  {
   "cell_type": "markdown",
   "metadata": {},
   "source": [
    "# Ensembles\n",
    "\n",
    "This example covers both ensembles and ensemble forecasts, which we call ensemble cycles (\"cycles\" since they could be analyses or forecasts).\n",
    "\n",
    "## Ensemble Simulation\n",
    "\n",
    "An ensemble simulation is a set of WRF-Hydro simulations. Indiviudal simulations are referred to as \"members\". Members start/restart at the same time and run for the same duration of time. However, all other properties of the members can vary including run-time options and files, and compile-time options. \n",
    "\n",
    "From `help(wrfhydropy.EnsembleSimulation)`:\n",
    "```\n",
    "Class for a WRF-Hydro EnsembleSimulation object. The Ensemble Simulation object is used to\n",
    "orchestrate a set of 'N' WRF-Hydro simulations. It requires members with pre-compiled models\n",
    "and there are set and get methods across the ensemble (member_diffs & set_member_diffs). Jobs\n",
    "and scheduler set on the EnsembleSimulation object are set on all the members. \n",
    "```\n",
    "This example builds from prior examples. Please refer to the earlier examples for more details on both Simulation and CycleSimulation objects.\n",
    "\n",
    "## Preliminary"
   ]
  },
  {
   "cell_type": "code",
   "execution_count": 1,
   "metadata": {},
   "outputs": [
    {
     "name": "stderr",
     "output_type": "stream",
     "text": [
      "/glade/work/jamesmcc/python_envs/368_/lib/python3.6/site-packages/dask/config.py:131: YAMLLoadWarning: calling yaml.load() without Loader=... is deprecated, as the default Loader is unsafe. Please read https://msg.pyyaml.org/load for full details.\n",
      "  data = yaml.load(f.read()) or {}\n"
     ]
    }
   ],
   "source": [
    "import copy\n",
    "import datetime\n",
    "import os\n",
    "import pathlib\n",
    "import pickle\n",
    "from pprint import pprint\n",
    "import subprocess\n",
    "import sys\n",
    "import wrfhydropy"
   ]
  },
  {
   "cell_type": "markdown",
   "metadata": {},
   "source": [
    "## User Configuration\n",
    "This section should be all you need to tailor to your own machine."
   ]
  },
  {
   "cell_type": "code",
   "execution_count": 2,
   "metadata": {},
   "outputs": [],
   "source": [
    "model_repo = pathlib.Path('/glade/u/home/jamesmcc/WRF_Hydro/wrf_hydro_nwm_public')\n",
    "experiment_dir = pathlib.Path('/glade/scratch/jamesmcc/wrfhydropy_ensemble_example')\n",
    "if not experiment_dir.exists():\n",
    "    os.mkdir(str(experiment_dir))\n",
    "os.chdir(str(experiment_dir))"
   ]
  },
  {
   "cell_type": "markdown",
   "metadata": {},
   "source": [
    "## Simulation Object\n",
    "First, we build the simulation that serves as the basis for the members of ensemble.  \n",
    "\n",
    "The domain is pulled from the cloud, just as in the first (end-to-end) example. (Note that this section will not run on a cheyenne compute node as they are not connected to the internet.)"
   ]
  },
  {
   "cell_type": "code",
   "execution_count": 3,
   "metadata": {},
   "outputs": [],
   "source": [
    "domain_dir = experiment_dir / 'domain'\n",
    "if not domain_dir.exists(): \n",
    "    sys.path.append(str(model_repo / 'tests/local/utils'))\n",
    "    from gdrive_download import download_file_from_google_drive\n",
    "    file_id = '1xFYB--zm9f8bFHESzgP5X5i7sZryQzJe'\n",
    "    file_target = 'gdrive_testcase.tar.gz'\n",
    "    download_file_from_google_drive(\n",
    "        file_id, \n",
    "        str(experiment_dir.joinpath(file_target)))\n",
    "    untar_cmd = 'tar -xf ' + file_target + '; mv example_case domain'\n",
    "    subprocess.run(\n",
    "        untar_cmd, \n",
    "        shell=True,\n",
    "        cwd=str(experiment_dir))"
   ]
  },
  {
   "cell_type": "code",
   "execution_count": 4,
   "metadata": {},
   "outputs": [],
   "source": [
    "hrldas_model_side_file = model_repo / 'src/hrldas_namelists.json'\n",
    "hrldas_domain_side_file = domain_dir / 'hrldas_namelist_patches.json'\n",
    "hydro_model_side_file = model_repo / 'src/hydro_namelists.json'\n",
    "hydro_domain_side_file = domain_dir / 'hydro_namelist_patches.json'\n",
    "compile_options_file = model_repo / 'src/compile_options.json'\n",
    "config = 'nwm_ana'"
   ]
  },
  {
   "cell_type": "code",
   "execution_count": 5,
   "metadata": {},
   "outputs": [],
   "source": [
    "domain = wrfhydropy.Domain(\n",
    "    domain_top_dir=domain_dir,\n",
    "    domain_config=config)"
   ]
  },
  {
   "cell_type": "code",
   "execution_count": 6,
   "metadata": {},
   "outputs": [],
   "source": [
    "model = wrfhydropy.Model(\n",
    "    model_repo / 'src',\n",
    "    compiler='ifort',\n",
    "    compile_options={'WRF_HYDRO_NUDGING': 0},  # Turn off nudging for this ensemble experiment\n",
    "    model_config=config)"
   ]
  },
  {
   "cell_type": "code",
   "execution_count": 7,
   "metadata": {},
   "outputs": [
    {
     "name": "stderr",
     "output_type": "stream",
     "text": [
      "/glade/work/jamesmcc/python_envs/368_/lib/python3.6/site-packages/wrfhydropy-0.0.18-py3.6.egg/wrfhydropy/core/model.py:193: UserWarning: /glade/scratch/jamesmcc/wrfhydropy_ensemble_example/compile directory does not exist, creating\n",
      "  warnings.warn(str(self.compile_dir.absolute()) + ' directory does not exist, creating')\n"
     ]
    },
    {
     "name": "stdout",
     "output_type": "stream",
     "text": [
      "Model successfully compiled into /glade/scratch/jamesmcc/wrfhydropy_ensemble_example/compile\n"
     ]
    }
   ],
   "source": [
    "compile_dir = experiment_dir / 'compile'\n",
    "if not compile_dir.exists():\n",
    "    model.compile(compile_dir)\n",
    "else: \n",
    "    model = pickle.load(compile_dir.joinpath('WrfHydroModel.pkl').open('rb'))"
   ]
  },
  {
   "cell_type": "code",
   "execution_count": 8,
   "metadata": {},
   "outputs": [],
   "source": [
    "simulation = wrfhydropy.Simulation()\n",
    "simulation.add(model)\n",
    "simulation.add(domain)"
   ]
  },
  {
   "cell_type": "markdown",
   "metadata": {},
   "source": [
    "Note that we dont need to compose or run the Simulation. "
   ]
  },
  {
   "cell_type": "markdown",
   "metadata": {},
   "source": [
    "## EnsembleSimulation Object\n",
    "The documentation is always a work in progress! Please provide feedback on how to continue to improve it.\n",
    "\n",
    "One can look at the documentation on the web  \n",
    "https://wrfhydropy.readthedocs.io/en/latest/generated/wrfhydropy.EnsembleSimulation.html  \n",
    "or one can ask for help within python:"
   ]
  },
  {
   "cell_type": "code",
   "execution_count": 9,
   "metadata": {},
   "outputs": [
    {
     "name": "stdout",
     "output_type": "stream",
     "text": [
      "Help on class EnsembleSimulation in module wrfhydropy.core.ensemble:\n",
      "\n",
      "class EnsembleSimulation(builtins.object)\n",
      " |  Class for a WRF-Hydro EnsembleSimulation object. The Ensemble Simulation object is used to\n",
      " |  orchestrate a set of 'N' WRF-Hydro simulations. It requires members with pre-compiled models\n",
      " |  and there are set and get methods across the ensemble (member_diffs & set_member_diffs). Jobs\n",
      " |  and scheduler set on the EnsembleSimulation object are set on all the members.\n",
      " |  \n",
      " |  Methods defined here:\n",
      " |  \n",
      " |  __init__(self, ncores:int=1)\n",
      " |      Instantiates an EnsembleSimulation object.\n",
      " |  \n",
      " |  __len__(self)\n",
      " |  \n",
      " |  add(self, obj:Union[list, wrfhydropy.core.schedulers.Scheduler, wrfhydropy.core.job.Job])\n",
      " |      Add an approparite object to an EnsembleSimulation, such as a Simulation, Job, or\n",
      " |      Scheduler.\n",
      " |      Args:\n",
      " |          obj: the object to add.\n",
      " |  \n",
      " |  collect(self, output=True)\n",
      " |  \n",
      " |  compose(self, symlink_domain:bool=True, force:bool=False, check_nlst_warn:bool=False, rm_members_from_memory:bool=True)\n",
      " |      Ensemble compose simulation directories and files\n",
      " |      Args:\n",
      " |          symlink_domain: Symlink the domain files rather than copy\n",
      " |          force: Compose into directory even if not empty. This is considered bad practice but\n",
      " |          is necessary in certain circumstances.\n",
      " |          rm_members_from_memory: Most applications will remove the members from the\n",
      " |          ensemble object upon compose. Testing and other reasons may keep them around.\n",
      " |          check_nlst_warn: Allow the namelist checking/validation to only result in warnings.\n",
      " |          This is also not great practice, but necessary in certain circumstances.\n",
      " |  \n",
      " |  pickle(self, path:str)\n",
      " |      Pickle ensemble sim object to specified file path\n",
      " |      Args:\n",
      " |          path: The file path for pickle\n",
      " |  \n",
      " |  replicate_member(self, N:int, copy_members:bool=True)\n",
      " |      # A quick way to setup a basic ensemble from a single sim.\n",
      " |  \n",
      " |  restore_members(self, ens_dir:pathlib.Path=None, recursive:bool=True)\n",
      " |      Restore members from disk, replace paths with the loaded pickle.\n",
      " |  \n",
      " |  rm_members(self)\n",
      " |      Remove members from memory, replace with their paths.\n",
      " |  \n",
      " |  run(self, n_concurrent:int=1, teams:bool=False, teams_exe_cmd:str=None, teams_exe_cmd_nproc:int=None, teams_node_file:dict=None, env:dict=None, teams_dict:dict=None)\n",
      " |      Run the ensemble of simulations.\n",
      " |      Inputs:\n",
      " |          n_concurrent: int = 1, Only used for non-team runs.\n",
      " |          teams: bool = False, Use teams?\n",
      " |          teams_exe_cmd: str, The mpi-specific syntax needed. For\n",
      " |              example: 'mpirun --host {hostname} -np {nproc} {cmd}'\n",
      " |          teams_exe_cmd_nproc: int, The number of cores per model/wrf_hydro\n",
      " |              simulation to be run.\n",
      " |          teams_node_file: dict = None, Optional file that acts like a node\n",
      " |              file. It is not currently implemented but the key specifies the\n",
      " |              scheduler format that the file follows. An example pbs node\n",
      " |              file is in tests/data and this argument is used here to test\n",
      " |              without a sched.\n",
      " |          env: dict = None, optional envionment to pass to the run.\n",
      " |          teams_dict: dict, Skip the arguments if you already have a\n",
      " |              teams_dict to use (backwards compatibility)\n",
      " |      Returns: 0 for success.\n",
      " |  \n",
      " |  set_member_diffs(self, att_tuple:tuple, values:list)\n",
      " |      Set method for ensemble member differences. (Currently fails silently when\n",
      " |      requested fields are not found.)\n",
      " |  \n",
      " |  ----------------------------------------------------------------------\n",
      " |  Data descriptors defined here:\n",
      " |  \n",
      " |  N\n",
      " |  \n",
      " |  __dict__\n",
      " |      dictionary for instance variables (if defined)\n",
      " |  \n",
      " |  __weakref__\n",
      " |      list of weak references to the object (if defined)\n",
      " |  \n",
      " |  member_diffs\n",
      " |      Get method for ensemble member differences. Only differences are reported.\n",
      "\n"
     ]
    }
   ],
   "source": [
    "help(wrfhydropy.EnsembleSimulation)"
   ]
  },
  {
   "cell_type": "markdown",
   "metadata": {},
   "source": [
    "Instantiate the EnsembleSimulation, there are no required arguments."
   ]
  },
  {
   "cell_type": "code",
   "execution_count": 10,
   "metadata": {},
   "outputs": [
    {
     "data": {
      "text/plain": [
       "4"
      ]
     },
     "execution_count": 10,
     "metadata": {},
     "output_type": "execute_result"
    }
   ],
   "source": [
    "ensemble = wrfhydropy.EnsembleSimulation()\n",
    "ensemble.add(simulation)\n",
    "ensemble.replicate_member(4)\n",
    "len(ensemble)"
   ]
  },
  {
   "cell_type": "code",
   "execution_count": 11,
   "metadata": {},
   "outputs": [
    {
     "name": "stdout",
     "output_type": "stream",
     "text": [
      "{'number': ['000', '001', '002', '003'],\n",
      " 'run_dir': ['member_000', 'member_001', 'member_002', 'member_003']}\n"
     ]
    }
   ],
   "source": [
    "pprint(ensemble.member_diffs)"
   ]
  },
  {
   "cell_type": "markdown",
   "metadata": {},
   "source": [
    "We'll perturb 2 parameters to get four different members:  \n",
    "  * dtrt_ch:  5, 20 minutes.   \n",
    "  * Lakes: on, off \n",
    "  \n",
    "First, `dtrt_ch` (the channel routing timestep) is set this way:"
   ]
  },
  {
   "cell_type": "code",
   "execution_count": 12,
   "metadata": {},
   "outputs": [],
   "source": [
    "dtrtch_att_tuple = ('base_hydro_namelist', 'hydro_nlist', 'dtrt_ch')\n",
    "ensemble.set_member_diffs(dtrtch_att_tuple, [5*60, 20*60, 5*60, 20*60])"
   ]
  },
  {
   "cell_type": "markdown",
   "metadata": {},
   "source": [
    "The `dtrtch_att_tuple` is essentially a \"path\" into where `dtrt_ch` lives within the Simulation object. Exploring `simulation.__dict__` is how one understands these paths. The \"path\" described in the tuple can mix object attributes and dictionary keys. The `base_hydro_namelist` attribute of a simulation is where the namelists are assembled while they are living in memory, before they are written to disk. (The tag \"base\" was probably a bad choice because of the \"base\" namelists used in the JSON namelist files, which this is NOT.)\n",
    "\n",
    "Turning off lakes requires setting two entries in the hydronamelist. These are changed in a similar way as above:"
   ]
  },
  {
   "cell_type": "code",
   "execution_count": 13,
   "metadata": {},
   "outputs": [],
   "source": [
    "original_route_lake_f = simulation.base_hydro_namelist['hydro_nlist']['route_lake_f']\n",
    "lakef_att_tuple = ('base_hydro_namelist', 'hydro_nlist', 'route_lake_f')\n",
    "ensemble.set_member_diffs(lakef_att_tuple, [original_route_lake_f] * 2 + [''] * 2)\n",
    "outlake_att_tuple = ('base_hydro_namelist', 'hydro_nlist', 'outlake')\n",
    "ensemble.set_member_diffs(outlake_att_tuple, [1, 1, 0, 0])"
   ]
  },
  {
   "cell_type": "markdown",
   "metadata": {},
   "source": [
    "Now let's verify the differences across the ensemble have changed to be something other than their names and places."
   ]
  },
  {
   "cell_type": "code",
   "execution_count": 14,
   "metadata": {},
   "outputs": [
    {
     "name": "stdout",
     "output_type": "stream",
     "text": [
      "{'number': ['000', '001', '002', '003'],\n",
      " 'run_dir': ['member_000', 'member_001', 'member_002', 'member_003'],\n",
      " ('base_hydro_namelist', 'hydro_nlist', 'dtrt_ch'): [300, 1200, 300, 1200],\n",
      " ('base_hydro_namelist', 'hydro_nlist', 'outlake'): [1, 1, 0, 0],\n",
      " ('base_hydro_namelist', 'hydro_nlist', 'route_lake_f'): ['./NWM/DOMAIN/LAKEPARM.nc',\n",
      "                                                          './NWM/DOMAIN/LAKEPARM.nc',\n",
      "                                                          '',\n",
      "                                                          '']}\n"
     ]
    }
   ],
   "source": [
    "pprint(ensemble.member_diffs)"
   ]
  },
  {
   "cell_type": "markdown",
   "metadata": {},
   "source": [
    "To run the ensemble, we'll need a Job. This job applies to all the members."
   ]
  },
  {
   "cell_type": "code",
   "execution_count": 15,
   "metadata": {},
   "outputs": [],
   "source": [
    "model_start_time = datetime.datetime(2011, 8, 26, 0)\n",
    "model_end_time = model_start_time + datetime.timedelta(hours=24)\n",
    "exe_cmd = 'mpirun -np 1 ./wrf_hydro.exe'\n",
    "job_ensemble = wrfhydropy.Job(\n",
    "    job_id='ensemble',\n",
    "    exe_cmd=exe_cmd,\n",
    "    model_start_time=model_start_time,\n",
    "    model_end_time=model_end_time,\n",
    "    restart=True,\n",
    "    restart_freq_hr=6,\n",
    "    output_freq_hr=1)\n",
    "\n",
    "ensemble.add(job_ensemble)\n",
    "ensemble_copy = copy.deepcopy(ensemble)"
   ]
  },
  {
   "cell_type": "markdown",
   "metadata": {},
   "source": [
    "If we consider the ensemble \"ready to go\", we can compose it to disk. This compose step follows the same pattern as a Simulation or a CycleSimulation."
   ]
  },
  {
   "cell_type": "code",
   "execution_count": 16,
   "metadata": {},
   "outputs": [
    {
     "name": "stdout",
     "output_type": "stream",
     "text": [
      "Composing simulation into directory:'/glade/scratch/jamesmcc/wrfhydropy_ensemble_example/ensemble/member_000'\n",
      "Getting domain files...\n",
      "Making job directories...\n",
      "Validating job input files\n",
      "ensemble\n",
      "Model already compiled, copying files...\n",
      "Simulation successfully composed\n",
      "Composing simulation into directory:'/glade/scratch/jamesmcc/wrfhydropy_ensemble_example/ensemble/member_001'\n",
      "Getting domain files...\n",
      "Making job directories...\n",
      "Validating job input files\n",
      "ensemble\n",
      "Model already compiled, copying files...\n",
      "Simulation successfully composed\n",
      "Composing simulation into directory:'/glade/scratch/jamesmcc/wrfhydropy_ensemble_example/ensemble/member_002'\n",
      "Getting domain files...\n",
      "Making job directories...\n",
      "Validating job input files\n",
      "ensemble\n",
      "Model already compiled, copying files...\n",
      "Simulation successfully composed\n",
      "Composing simulation into directory:'/glade/scratch/jamesmcc/wrfhydropy_ensemble_example/ensemble/member_003'\n",
      "Getting domain files...\n",
      "Making job directories...\n",
      "Validating job input files\n",
      "ensemble\n",
      "Model already compiled, copying files...\n",
      "Simulation successfully composed\n"
     ]
    }
   ],
   "source": [
    "ensemble_dir = experiment_dir / 'ensemble'\n",
    "os.mkdir(ensemble_dir)\n",
    "os.chdir(ensemble_dir)\n",
    "ensemble.compose()"
   ]
  },
  {
   "cell_type": "markdown",
   "metadata": {},
   "source": [
    "As with Simulation objects, this time between compose (to disk) and run is a critical point for the user to look at the runs and verify that everything is configured correctly. \n",
    "\n",
    "These ensembles are independent of each other, so we choose to run them in parallel here, within the interactive run call."
   ]
  },
  {
   "cell_type": "code",
   "execution_count": 17,
   "metadata": {},
   "outputs": [
    {
     "data": {
      "text/plain": [
       "0"
      ]
     },
     "execution_count": 17,
     "metadata": {},
     "output_type": "execute_result"
    }
   ],
   "source": [
    "ensemble.run(n_concurrent=4)"
   ]
  },
  {
   "cell_type": "markdown",
   "metadata": {},
   "source": [
    "## Ensemble Collection\n",
    "I have not yet implemented a syntactic sugar collection/open for more complicated objects than Simulations.... so we do this the \"unchained\" or \"old fashioned\" way. "
   ]
  },
  {
   "cell_type": "code",
   "execution_count": 18,
   "metadata": {},
   "outputs": [
    {
     "name": "stdout",
     "output_type": "stream",
     "text": [
      "n_files 96\n"
     ]
    }
   ],
   "source": [
    "ens_chanobs_files = sorted(ensemble_dir.glob('*/*CHANOBS*'))\n",
    "ens_chanobs_ds = wrfhydropy.open_whp_dataset(ens_chanobs_files)"
   ]
  },
  {
   "cell_type": "markdown",
   "metadata": {},
   "source": [
    "Note that the `open_whp_dataset` function handles the dimension of the ensemble members."
   ]
  },
  {
   "cell_type": "code",
   "execution_count": 19,
   "metadata": {},
   "outputs": [
    {
     "data": {
      "text/html": [
       "<pre>&lt;xarray.Dataset&gt;\n",
       "Dimensions:     (feature_id: 4, member: 4, time: 24)\n",
       "Coordinates:\n",
       "    longitude   (feature_id) float32 -73.76059 -73.69085 -73.73565 -73.68741\n",
       "    latitude    (feature_id) float32 41.470795 41.473614 41.449814 41.40192\n",
       "  * time        (time) datetime64[ns] 2011-08-26T01:00:00 ... 2011-08-27\n",
       "  * feature_id  (feature_id) int32 6226948 6226964 6227008 6227150\n",
       "  * member      (member) int64 0 1 2 3\n",
       "Data variables:\n",
       "    crs         (member, time) |S1 b&#x27;&#x27; b&#x27;&#x27; b&#x27;&#x27; b&#x27;&#x27; b&#x27;&#x27; ... b&#x27;&#x27; b&#x27;&#x27; b&#x27;&#x27; b&#x27;&#x27; b&#x27;&#x27;\n",
       "    order       (member, time, feature_id) int32 3 2 4 4 3 2 4 ... 2 4 4 3 2 4 4\n",
       "    elevation   (member, time, feature_id) float32 180.48 183.15 ... 147.61\n",
       "    streamflow  (member, time, feature_id) float32 0.43056196 ... 1.0433522\n",
       "Attributes:\n",
       "    featureType:        timeSeries\n",
       "    proj4:              +proj=lcc +units=m +a=6370000.0 +b=6370000.0 +lat_1=3...\n",
       "    station_dimension:  feature_id\n",
       "    Conventions:        CF-1.6</pre>"
      ],
      "text/plain": [
       "<xarray.Dataset>\n",
       "Dimensions:     (feature_id: 4, member: 4, time: 24)\n",
       "Coordinates:\n",
       "    longitude   (feature_id) float32 -73.76059 -73.69085 -73.73565 -73.68741\n",
       "    latitude    (feature_id) float32 41.470795 41.473614 41.449814 41.40192\n",
       "  * time        (time) datetime64[ns] 2011-08-26T01:00:00 ... 2011-08-27\n",
       "  * feature_id  (feature_id) int32 6226948 6226964 6227008 6227150\n",
       "  * member      (member) int64 0 1 2 3\n",
       "Data variables:\n",
       "    crs         (member, time) |S1 b'' b'' b'' b'' b'' ... b'' b'' b'' b'' b''\n",
       "    order       (member, time, feature_id) int32 3 2 4 4 3 2 4 ... 2 4 4 3 2 4 4\n",
       "    elevation   (member, time, feature_id) float32 180.48 183.15 ... 147.61\n",
       "    streamflow  (member, time, feature_id) float32 0.43056196 ... 1.0433522\n",
       "Attributes:\n",
       "    featureType:        timeSeries\n",
       "    proj4:              +proj=lcc +units=m +a=6370000.0 +b=6370000.0 +lat_1=3...\n",
       "    station_dimension:  feature_id\n",
       "    Conventions:        CF-1.6"
      ]
     },
     "execution_count": 19,
     "metadata": {},
     "output_type": "execute_result"
    }
   ],
   "source": [
    "ens_chanobs_ds"
   ]
  },
  {
   "cell_type": "markdown",
   "metadata": {},
   "source": [
    "Do the easiest plotting thing possible."
   ]
  },
  {
   "cell_type": "code",
   "execution_count": 39,
   "metadata": {},
   "outputs": [
    {
     "data": {
      "text/plain": [
       "<xarray.plot.facetgrid.FacetGrid at 0x2b311ad55dd8>"
      ]
     },
     "execution_count": 39,
     "metadata": {},
     "output_type": "execute_result"
    },
    {
     "data": {
      "image/png": "[encoded data removed]",
      "text/plain": [
       "<Figure size 913.875x288 with 4 Axes>"
      ]
     },
     "metadata": {
      "needs_background": "light"
     },
     "output_type": "display_data"
    }
   ],
   "source": [
    "(ens_chanobs_ds.streamflow.plot\n",
    "    .line(x='time', hue='member', col='feature_id',\n",
    "          col_wrap=2,\n",
    "          figsize=(12, 4)))"
   ]
  },
  {
   "cell_type": "markdown",
   "metadata": {},
   "source": [
    "# Ensemble Cycles"
   ]
  },
  {
   "cell_type": "markdown",
   "metadata": {},
   "source": [
    "The API gets a bit rough here but it is tested, there are a few decisions that just have not been fully made yet. Let me kow your thoughts on smoothing it out. \n",
    "\n",
    "Take a look at `help(wrfhydropy.CycleSimulaton)` or at https://wrfhydropy.readthedocs.io/en/latest/generated/wrfhydropy.CycleSimulation.html  \n",
    "to see explaination of the form of the required arguments."
   ]
  },
  {
   "cell_type": "code",
   "execution_count": 21,
   "metadata": {},
   "outputs": [
    {
     "data": {
      "text/plain": [
       "[datetime.datetime(2011, 8, 26, 0, 0),\n",
       " datetime.datetime(2011, 8, 26, 6, 0),\n",
       " datetime.datetime(2011, 8, 26, 12, 0),\n",
       " datetime.datetime(2011, 8, 26, 18, 0)]"
      ]
     },
     "execution_count": 21,
     "metadata": {},
     "output_type": "execute_result"
    }
   ],
   "source": [
    "init_times = [datetime.datetime(2011, 8, 26, 0) + \n",
    "              datetime.timedelta(hours=hh) for hh in range(0, 24, 6)]\n",
    "init_times"
   ]
  },
  {
   "cell_type": "markdown",
   "metadata": {},
   "source": [
    "For the restarts, take them from the original ensemble run. Unlike the CycleSimulation example, these casts and members will be \"embarassingly parallel\", casts do not depend on casts at a prior time. The restarts re already on disk, ready to go. This example can be thought of as an (non-cycling) ensemble analysis (EnsembleSimulation above) which provides restarts for launching ensemble forecasts."
   ]
  },
  {
   "cell_type": "code",
   "execution_count": 22,
   "metadata": {},
   "outputs": [
    {
     "data": {
      "text/plain": [
       "[[PosixPath('/glade/scratch/jamesmcc/wrfhydropy_ensemble_example/ensemble/member_000'),\n",
       "  PosixPath('/glade/scratch/jamesmcc/wrfhydropy_ensemble_example/ensemble/member_000'),\n",
       "  PosixPath('/glade/scratch/jamesmcc/wrfhydropy_ensemble_example/ensemble/member_000'),\n",
       "  PosixPath('/glade/scratch/jamesmcc/wrfhydropy_ensemble_example/ensemble/member_000')],\n",
       " [PosixPath('/glade/scratch/jamesmcc/wrfhydropy_ensemble_example/ensemble/member_001'),\n",
       "  PosixPath('/glade/scratch/jamesmcc/wrfhydropy_ensemble_example/ensemble/member_001'),\n",
       "  PosixPath('/glade/scratch/jamesmcc/wrfhydropy_ensemble_example/ensemble/member_001'),\n",
       "  PosixPath('/glade/scratch/jamesmcc/wrfhydropy_ensemble_example/ensemble/member_001')],\n",
       " [PosixPath('/glade/scratch/jamesmcc/wrfhydropy_ensemble_example/ensemble/member_002'),\n",
       "  PosixPath('/glade/scratch/jamesmcc/wrfhydropy_ensemble_example/ensemble/member_002'),\n",
       "  PosixPath('/glade/scratch/jamesmcc/wrfhydropy_ensemble_example/ensemble/member_002'),\n",
       "  PosixPath('/glade/scratch/jamesmcc/wrfhydropy_ensemble_example/ensemble/member_002')],\n",
       " [PosixPath('/glade/scratch/jamesmcc/wrfhydropy_ensemble_example/ensemble/member_003'),\n",
       "  PosixPath('/glade/scratch/jamesmcc/wrfhydropy_ensemble_example/ensemble/member_003'),\n",
       "  PosixPath('/glade/scratch/jamesmcc/wrfhydropy_ensemble_example/ensemble/member_003'),\n",
       "  PosixPath('/glade/scratch/jamesmcc/wrfhydropy_ensemble_example/ensemble/member_003')]]"
      ]
     },
     "execution_count": 22,
     "metadata": {},
     "output_type": "execute_result"
    }
   ],
   "source": [
    "restart_dirs_ens_cycle = [ [ensemble_dir / ('member_' + str(ii).zfill(3))] * 4 for ii in range(4)]\n",
    "restart_dirs_ens_cycle"
   ]
  },
  {
   "cell_type": "code",
   "execution_count": 23,
   "metadata": {},
   "outputs": [],
   "source": [
    "ens_cycle = wrfhydropy.CycleSimulation(\n",
    "    init_times=init_times, restart_dirs=restart_dirs_ens_cycle)"
   ]
  },
  {
   "cell_type": "code",
   "execution_count": 24,
   "metadata": {},
   "outputs": [],
   "source": [
    "ens_cycle.add(ensemble_copy)  # adding ensemble here will cause a type error because it was composed to disk\n",
    "ens_cycle.add(job_ensemble)"
   ]
  },
  {
   "cell_type": "code",
   "execution_count": 25,
   "metadata": {},
   "outputs": [
    {
     "name": "stdout",
     "output_type": "stream",
     "text": [
      "Composing simulation into directory:'/glade/scratch/jamesmcc/wrfhydropy_ensemble_example/ens_cycle/cast_2011082600/member_000'\n",
      "Getting domain files...\n",
      "Making job directories...\n",
      "Validating job input files\n",
      "ensemble\n",
      "Model already compiled, copying files...\n",
      "Simulation successfully composed\n",
      "Composing simulation into directory:'/glade/scratch/jamesmcc/wrfhydropy_ensemble_example/ens_cycle/cast_2011082600/member_001'\n",
      "Getting domain files...\n",
      "Making job directories...\n",
      "Validating job input files\n",
      "ensemble\n",
      "Model already compiled, copying files...\n",
      "Simulation successfully composed\n",
      "Composing simulation into directory:'/glade/scratch/jamesmcc/wrfhydropy_ensemble_example/ens_cycle/cast_2011082600/member_002'\n",
      "Getting domain files...\n",
      "Making job directories...\n",
      "Validating job input files\n",
      "ensemble\n",
      "Model already compiled, copying files...\n",
      "Simulation successfully composed\n",
      "Composing simulation into directory:'/glade/scratch/jamesmcc/wrfhydropy_ensemble_example/ens_cycle/cast_2011082600/member_003'\n",
      "Getting domain files...\n",
      "Making job directories...\n",
      "Validating job input files\n",
      "ensemble\n",
      "Model already compiled, copying files...\n",
      "Simulation successfully composed\n",
      "Composing simulation into directory:'/glade/scratch/jamesmcc/wrfhydropy_ensemble_example/ens_cycle/cast_2011082606/member_000'\n",
      "Getting domain files...\n",
      "Making job directories...\n",
      "Validating job input files\n",
      "ensemble\n",
      "Model already compiled, copying files...\n",
      "Simulation successfully composed\n",
      "Composing simulation into directory:'/glade/scratch/jamesmcc/wrfhydropy_ensemble_example/ens_cycle/cast_2011082606/member_001'\n",
      "Getting domain files...\n",
      "Making job directories...\n",
      "Validating job input files\n",
      "ensemble\n",
      "Model already compiled, copying files...\n",
      "Simulation successfully composed\n",
      "Composing simulation into directory:'/glade/scratch/jamesmcc/wrfhydropy_ensemble_example/ens_cycle/cast_2011082606/member_002'\n",
      "Getting domain files...\n",
      "Making job directories...\n",
      "Validating job input files\n",
      "ensemble\n",
      "Model already compiled, copying files...\n",
      "Simulation successfully composed\n",
      "Composing simulation into directory:'/glade/scratch/jamesmcc/wrfhydropy_ensemble_example/ens_cycle/cast_2011082606/member_003'\n",
      "Getting domain files...\n",
      "Making job directories...\n",
      "Validating job input files\n",
      "ensemble\n",
      "Model already compiled, copying files...\n",
      "Simulation successfully composed\n",
      "Composing simulation into directory:'/glade/scratch/jamesmcc/wrfhydropy_ensemble_example/ens_cycle/cast_2011082612/member_000'\n",
      "Getting domain files...\n",
      "Making job directories...\n",
      "Validating job input files\n",
      "ensemble\n",
      "Model already compiled, copying files...\n",
      "Simulation successfully composed\n",
      "Composing simulation into directory:'/glade/scratch/jamesmcc/wrfhydropy_ensemble_example/ens_cycle/cast_2011082612/member_001'\n",
      "Getting domain files...\n",
      "Making job directories...\n",
      "Validating job input files\n",
      "ensemble\n",
      "Model already compiled, copying files...\n",
      "Simulation successfully composed\n",
      "Composing simulation into directory:'/glade/scratch/jamesmcc/wrfhydropy_ensemble_example/ens_cycle/cast_2011082612/member_002'\n",
      "Getting domain files...\n",
      "Making job directories...\n",
      "Validating job input files\n",
      "ensemble\n",
      "Model already compiled, copying files...\n",
      "Simulation successfully composed\n",
      "Composing simulation into directory:'/glade/scratch/jamesmcc/wrfhydropy_ensemble_example/ens_cycle/cast_2011082612/member_003'\n",
      "Getting domain files...\n",
      "Making job directories...\n",
      "Validating job input files\n",
      "ensemble\n",
      "Model already compiled, copying files...\n",
      "Simulation successfully composed\n",
      "Composing simulation into directory:'/glade/scratch/jamesmcc/wrfhydropy_ensemble_example/ens_cycle/cast_2011082618/member_000'\n",
      "Getting domain files...\n",
      "Making job directories...\n",
      "Validating job input files\n",
      "ensemble\n",
      "Model already compiled, copying files...\n",
      "Simulation successfully composed\n",
      "Composing simulation into directory:'/glade/scratch/jamesmcc/wrfhydropy_ensemble_example/ens_cycle/cast_2011082618/member_001'\n",
      "Getting domain files...\n",
      "Making job directories...\n",
      "Validating job input files\n",
      "ensemble\n",
      "Model already compiled, copying files...\n",
      "Simulation successfully composed\n",
      "Composing simulation into directory:'/glade/scratch/jamesmcc/wrfhydropy_ensemble_example/ens_cycle/cast_2011082618/member_002'\n",
      "Getting domain files...\n",
      "Making job directories...\n",
      "Validating job input files\n",
      "ensemble\n",
      "Model already compiled, copying files...\n",
      "Simulation successfully composed\n",
      "Composing simulation into directory:'/glade/scratch/jamesmcc/wrfhydropy_ensemble_example/ens_cycle/cast_2011082618/member_003'\n",
      "Getting domain files...\n",
      "Making job directories...\n",
      "Validating job input files\n",
      "ensemble\n",
      "Model already compiled, copying files...\n",
      "Simulation successfully composed\n"
     ]
    }
   ],
   "source": [
    "ens_cycle_dir = experiment_dir / 'ens_cycle'\n",
    "os.mkdir(ens_cycle_dir)\n",
    "os.chdir(ens_cycle_dir)\n",
    "ens_cycle.compose()"
   ]
  },
  {
   "cell_type": "markdown",
   "metadata": {},
   "source": [
    "As always, between `.compose()` and `.run()` is a critical moment to verify that the runs are setup correctly before consuming billions of core\\*hours to execute them.  \n",
    "\n",
    "Let's look at how the cycle ensemble is organized on disk and verify that it is setup correctly, at least a spot check or two. For each cast time, there is an ensemble:"
   ]
  },
  {
   "cell_type": "code",
   "execution_count": 26,
   "metadata": {},
   "outputs": [
    {
     "name": "stdout",
     "output_type": "stream",
     "text": [
      "cast_2011082600\n",
      "cast_2011082606\n",
      "cast_2011082612\n",
      "cast_2011082618\n"
     ]
    }
   ],
   "source": [
    "%%bash\n",
    "ls /glade/scratch/jamesmcc/wrfhydropy_ensemble_example/ens_cycle"
   ]
  },
  {
   "cell_type": "code",
   "execution_count": 27,
   "metadata": {},
   "outputs": [
    {
     "name": "stdout",
     "output_type": "stream",
     "text": [
      "member_000\n",
      "member_001\n",
      "member_002\n",
      "member_003\n",
      "WrfHydroEns.pkl\n"
     ]
    }
   ],
   "source": [
    "%%bash\n",
    "ls /glade/scratch/jamesmcc/wrfhydropy_ensemble_example/ens_cycle/cast_2011082606"
   ]
  },
  {
   "cell_type": "markdown",
   "metadata": {},
   "source": [
    "And we check that the restarts are coming from the original ensemble run, and from the right member at the right time."
   ]
  },
  {
   "cell_type": "code",
   "execution_count": 28,
   "metadata": {},
   "outputs": [
    {
     "name": "stdout",
     "output_type": "stream",
     "text": [
      "job_ensemble/hydro.namelist:    restart_file = '/glade/scratch/jamesmcc/wrfhydropy_ensemble_example/ensemble/member_001/HYDRO_RST.2011-08-26_06:00_DOMAIN1'\n",
      "job_ensemble/namelist.hrldas:    restart_filename_requested = '/glade/scratch/jamesmcc/wrfhydropy_ensemble_example/ensemble/member_001/RESTART.2011082606_DOMAIN1'\n",
      "job_ensemble/namelist.hrldas:    restart_frequency_hours = 6\n"
     ]
    }
   ],
   "source": [
    "%%bash\n",
    "cd /glade/scratch/jamesmcc/wrfhydropy_ensemble_example/ens_cycle/cast_2011082606/member_000; grep restart_f job*/*namelist*"
   ]
  },
  {
   "cell_type": "code",
   "execution_count": 29,
   "metadata": {},
   "outputs": [
    {
     "name": "stdout",
     "output_type": "stream",
     "text": [
      "job_ensemble/hydro.namelist:    restart_file = '/glade/scratch/jamesmcc/wrfhydropy_ensemble_example/ensemble/member_001/HYDRO_RST.2011-08-26_06:00_DOMAIN1'\n",
      "job_ensemble/namelist.hrldas:    restart_filename_requested = '/glade/scratch/jamesmcc/wrfhydropy_ensemble_example/ensemble/member_001/RESTART.2011082606_DOMAIN1'\n",
      "job_ensemble/namelist.hrldas:    restart_frequency_hours = 6\n"
     ]
    }
   ],
   "source": [
    "%%bash\n",
    "cd /glade/scratch/jamesmcc/wrfhydropy_ensemble_example/ens_cycle/cast_2011082606/member_002; grep restart_f job*/*namelist*"
   ]
  },
  {
   "cell_type": "markdown",
   "metadata": {},
   "source": [
    "## Teams run\n",
    "\n",
    "Teams run minimizes the use of a scheduler (PBS/SLURM) as much as possible by managing many calls to MPI (WRF-Hydro executions) from the submitted job script. The \"teams\" are groups of processors over multiple compute nodes which each process some set of WRF-Hydro simulations in serial, the multiple teams working in parallel. In the example below: each WRF-Hydro simulation uses 1 core, there are 16 total simulations, and the resources are 2 nodes and 8 cores per node. All the simulations will be run in parallel.\n",
    "\n",
    "Teams mode was originally developed for short or small jobs (and job arrays) which were single execuations of WRF-Hydro where the wait time in the queue approximated (or exceeded) the execution time of the model/job. Instead of submitting many \"small\" jobs (arrays) to the queue, one big job is submitted and many individual simulations are managed within a single job by wrfhydropy. \n",
    "\n",
    "As you might guess, the success of this approach and its syntax are highly dependent on the MPI flavor employed. Intel fortran has been the most used, though OpenMPI has been used as well. Every attempt has been made to separate out the MPI syntax into arguments. \n",
    "\n",
    "It is also note worthy that Teams have only been applied when the number of cores to be used for a single simulation are contained on a single compute node. Though not currently implemented, we have a strategy for also handling larger (multi-node) simulations using this approach. The success of this depends very much on MPI flavor. \n",
    "\n",
    "Teams mode in the master branch is for PBS but a SLURM implementation exists in a branch (pending merging when tests are developed for both).\n",
    "\n",
    "As for using it, the recipe is as follows. When `.run()` is scheduled (e.g. in the end-to-end example), the method pickles the object to run before running it and this is hidden from the user. In the case of a teams run, we have to do this manually (currently, this is one place the API could be improved)."
   ]
  },
  {
   "cell_type": "code",
   "execution_count": 30,
   "metadata": {},
   "outputs": [],
   "source": [
    "ens_cycle.pickle(ens_cycle_dir / 'WrfHydroCycle.pkl')"
   ]
  },
  {
   "cell_type": "markdown",
   "metadata": {},
   "source": [
    "Next the a run script is to be placed in the `ens_cycle_dir` directory. The following template has not yet been added to the repo, mostly because there are often so many customizations for PBS and SLURM that there's some uncertainty about the best appraoch to including it. The prevailing, unimplemented idea is to make the following string variable, `submit_script`, available to import. This would provide a starting point which the user could edit and define/remove variables."
   ]
  },
  {
   "cell_type": "code",
   "execution_count": 31,
   "metadata": {},
   "outputs": [],
   "source": [
    "submit_script = (\n",
    "\"\"\"#!/usr/bin/env python\n",
    "#PBS -N {job_name}\n",
    "#PBS -A {account}\n",
    "#PBS -q {queue}\n",
    "#PBS -M {email_who}\n",
    "#PBS -m {email_when}\n",
    "#PBS -l walltime={walltime}\n",
    "{afterok}\n",
    "\n",
    "#PBS -l select={n_nodes}:ncpus={n_proc_node}:mpiprocs={n_proc_node}\n",
    "\n",
    "# Not using PBS standard error and out files to capture model output\n",
    "# but these files might catch output and errors from the scheduler.\n",
    "#PBS -o {job_name}.stdout\n",
    "#PBS -e {job_name}.stderr\n",
    "\n",
    "import wrfhydropy\n",
    "import pickle\n",
    "import os\n",
    "import pathlib\n",
    "import sys\n",
    "\n",
    "job_dir = \"{job_dir}\"\n",
    "print('job_dir: ', str(job_dir))\n",
    "os.chdir(str(job_dir))\n",
    "\n",
    "ens = pickle.load(open('WrfHydroCycle.pkl', mode='rb'))\n",
    "ret_val = ens.run(\n",
    "    teams=True,\n",
    "    teams_exe_cmd_nproc={n_proc_exe},\n",
    "    teams_exe_cmd=\"{mpi_cmd}\")\n",
    "\n",
    "sys.exit(ret_val)\n",
    "\"\"\")"
   ]
  },
  {
   "cell_type": "markdown",
   "metadata": {},
   "source": [
    "We format the variables in the above string by passing a dictionary and we write that formatted string to file. "
   ]
  },
  {
   "cell_type": "code",
   "execution_count": 32,
   "metadata": {},
   "outputs": [],
   "source": [
    "sched_params = {\n",
    "    'job_name': 'cyteamex', \n",
    "    'account': 'NRAL0017',\n",
    "    'queue': 'regular',\n",
    "    'email_who': 'jamesmcc' + '@' + 'ucar' + '.' + 'edu',\n",
    "    'email_when': 'abe',\n",
    "    'walltime': '00:15:00',\n",
    "    'afterok': '',\n",
    "    'n_nodes': 2,\n",
    "    'n_proc_node': 8,\n",
    "    'n_proc_exe': 1,\n",
    "    'job_dir': str(ens_cycle_dir),\n",
    "    'mpi_cmd': exe_cmd,\n",
    "}\n",
    "submit_script_fmt = submit_script.format(**sched_params)\n",
    "with (ens_cycle_dir / 'run_cycle.py').open('w') as file:    \n",
    "    file.write(submit_script_fmt) "
   ]
  },
  {
   "cell_type": "markdown",
   "metadata": {},
   "source": [
    "Then we submit the script to the scheduler... "
   ]
  },
  {
   "cell_type": "code",
   "execution_count": 33,
   "metadata": {},
   "outputs": [
    {
     "name": "stdout",
     "output_type": "stream",
     "text": [
      "1596391.chadmin1.ib0.cheyenne.ucar.edu\n"
     ]
    }
   ],
   "source": [
    "%%bash\n",
    "qsub run_cycle.py"
   ]
  },
  {
   "cell_type": "markdown",
   "metadata": {},
   "source": [
    "How do we know the cycle ensemble finished successfully? One way is to look at the standard error and standard out files for the job."
   ]
  },
  {
   "cell_type": "code",
   "execution_count": 34,
   "metadata": {},
   "outputs": [
    {
     "name": "stdout",
     "output_type": "stream",
     "text": [
      "/glade/work/jamesmcc/python_envs/368_/lib/python3.6/site-packages/dask/config.py:131: YAMLLoadWarning: calling yaml.load() without Loader=... is deprecated, as the default Loader is unsafe. Please read https://msg.pyyaml.org/load for full details.\n",
      "  data = yaml.load(f.read()) or {}\n"
     ]
    }
   ],
   "source": [
    "%%bash\n",
    "cat /glade/scratch/jamesmcc/wrfhydropy_ensemble_example/ens_cycle/cyteamex.stderr"
   ]
  },
  {
   "cell_type": "markdown",
   "metadata": {},
   "source": [
    "But there are other simple programmatic tests one can do (relying on the .model_end_time file mechanism of wrfhydropy):"
   ]
  },
  {
   "cell_type": "code",
   "execution_count": 35,
   "metadata": {},
   "outputs": [
    {
     "name": "stdout",
     "output_type": "stream",
     "text": [
      "16 ?=? 16\n"
     ]
    }
   ],
   "source": [
    "n_ens_casts = len(sorted(ens_cycle_dir.glob('cast*/member*')))\n",
    "n_complete_casts = len(sorted(ens_cycle_dir.glob('cast*/member*/.model_end_time')))\n",
    "print(str(n_ens_casts) + ' ?=? ' + str(n_complete_casts))\n",
    "assert n_ens_casts is n_complete_casts"
   ]
  },
  {
   "cell_type": "markdown",
   "metadata": {},
   "source": [
    "## Collect Cycle Ensemble\n",
    "Once again, `wrfhydropy.open_whp_dataset` handles the dimensions of this run natively. "
   ]
  },
  {
   "cell_type": "code",
   "execution_count": 36,
   "metadata": {},
   "outputs": [
    {
     "name": "stdout",
     "output_type": "stream",
     "text": [
      "n_files 384\n"
     ]
    }
   ],
   "source": [
    "ens_cycle_chanobs_files = sorted(ens_cycle_dir.glob('**/*CHANOBS*'))\n",
    "ens_cycle_chanobs_ds = wrfhydropy.open_whp_dataset(ens_cycle_chanobs_files)"
   ]
  },
  {
   "cell_type": "code",
   "execution_count": 37,
   "metadata": {},
   "outputs": [
    {
     "data": {
      "text/html": [
       "<pre>&lt;xarray.Dataset&gt;\n",
       "Dimensions:         (feature_id: 4, lead_time: 24, member: 4, reference_time: 4)\n",
       "Coordinates:\n",
       "    longitude       (feature_id) float32 -73.76059 -73.69085 -73.73565 -73.68741\n",
       "    latitude        (feature_id) float32 41.470795 41.473614 41.449814 41.40192\n",
       "  * member          (member) int64 0 1 2 3\n",
       "  * feature_id      (feature_id) int32 6226948 6226964 6227008 6227150\n",
       "  * reference_time  (reference_time) datetime64[ns] 2011-08-26 ... 2011-08-26T18:00:00\n",
       "  * lead_time       (lead_time) timedelta64[ns] 01:00:00 ... 1 days 00:00:00\n",
       "Data variables:\n",
       "    crs             (lead_time, member, reference_time) |S1 b&#x27;&#x27; b&#x27;&#x27; ... b&#x27;&#x27; b&#x27;&#x27;\n",
       "    order           (lead_time, member, reference_time, feature_id) int32 3 ... 4\n",
       "    elevation       (lead_time, member, reference_time, feature_id) float32 180.48 ... 147.61\n",
       "    streamflow      (lead_time, member, reference_time, feature_id) float32 0.43056196 ... 1.3508004\n",
       "    valid_time      (lead_time, reference_time) datetime64[ns] 2011-08-26T01:00:00 ... 2011-08-27T18:00:00\n",
       "Attributes:\n",
       "    featureType:        timeSeries\n",
       "    proj4:              +proj=lcc +units=m +a=6370000.0 +b=6370000.0 +lat_1=3...\n",
       "    station_dimension:  feature_id\n",
       "    Conventions:        CF-1.6</pre>"
      ],
      "text/plain": [
       "<xarray.Dataset>\n",
       "Dimensions:         (feature_id: 4, lead_time: 24, member: 4, reference_time: 4)\n",
       "Coordinates:\n",
       "    longitude       (feature_id) float32 -73.76059 -73.69085 -73.73565 -73.68741\n",
       "    latitude        (feature_id) float32 41.470795 41.473614 41.449814 41.40192\n",
       "  * member          (member) int64 0 1 2 3\n",
       "  * feature_id      (feature_id) int32 6226948 6226964 6227008 6227150\n",
       "  * reference_time  (reference_time) datetime64[ns] 2011-08-26 ... 2011-08-26T18:00:00\n",
       "  * lead_time       (lead_time) timedelta64[ns] 01:00:00 ... 1 days 00:00:00\n",
       "Data variables:\n",
       "    crs             (lead_time, member, reference_time) |S1 b'' b'' ... b'' b''\n",
       "    order           (lead_time, member, reference_time, feature_id) int32 3 ... 4\n",
       "    elevation       (lead_time, member, reference_time, feature_id) float32 180.48 ... 147.61\n",
       "    streamflow      (lead_time, member, reference_time, feature_id) float32 0.43056196 ... 1.3508004\n",
       "    valid_time      (lead_time, reference_time) datetime64[ns] 2011-08-26T01:00:00 ... 2011-08-27T18:00:00\n",
       "Attributes:\n",
       "    featureType:        timeSeries\n",
       "    proj4:              +proj=lcc +units=m +a=6370000.0 +b=6370000.0 +lat_1=3...\n",
       "    station_dimension:  feature_id\n",
       "    Conventions:        CF-1.6"
      ]
     },
     "execution_count": 37,
     "metadata": {},
     "output_type": "execute_result"
    }
   ],
   "source": [
    "ens_cycle_chanobs_ds"
   ]
  },
  {
   "cell_type": "markdown",
   "metadata": {},
   "source": [
    "In this case we'll just plot for feature_id 6227150."
   ]
  },
  {
   "cell_type": "code",
   "execution_count": 38,
   "metadata": {},
   "outputs": [
    {
     "data": {
      "text/plain": [
       "<xarray.plot.facetgrid.FacetGrid at 0x2b312d9cb5c0>"
      ]
     },
     "execution_count": 38,
     "metadata": {},
     "output_type": "execute_result"
    },
    {
     "data": {
      "image/png": "[encoded data removed]",
      "text/plain": [
       "<Figure size 913.875x288 with 4 Axes>"
      ]
     },
     "metadata": {
      "needs_background": "light"
     },
     "output_type": "display_data"
    }
   ],
   "source": [
    "ens_cycle_chanobs_ds = ens_cycle_chanobs_ds.set_coords('valid_time')\n",
    "(\n",
    "    ens_cycle_chanobs_ds\n",
    "    .streamflow\n",
    "    .sel(feature_id=6227150)\n",
    "    .plot\n",
    "    .line(\n",
    "        x='valid_time', col='reference_time', hue='member', \n",
    "        col_wrap=2,\n",
    "        figsize=(12, 4)))"
   ]
  }
 ],
 "metadata": {
  "kernelspec": {
   "display_name": "Python 3 (ipykernel)",
   "language": "python",
   "name": "python3"
  },
  "language_info": {
   "codemirror_mode": {
    "name": "ipython",
    "version": 3
   },
   "file_extension": ".py",
   "mimetype": "text/x-python",
   "name": "python",
   "nbconvert_exporter": "python",
   "pygments_lexer": "ipython3",
   "version": "3.9.12"
  }
 },
 "nbformat": 4,
 "nbformat_minor": 4
}
