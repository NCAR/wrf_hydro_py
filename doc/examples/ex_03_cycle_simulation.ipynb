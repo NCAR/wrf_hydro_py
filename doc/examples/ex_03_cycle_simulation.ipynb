{
 "cells": [
  {
   "cell_type": "markdown",
   "metadata": {},
   "source": [
    "# Cycle Simulation\n",
    "\n",
    "A cycle simulation is an execution of WRF-Hydro that takes place at different times. At these different times there may be different restart and forcing files, but most other properties of the run stay the same. Examples are a \"forecast\" or an \"analysis cycle\". \n",
    "\n",
    "The parlance/jargon we adopt:  \n",
    "  * A \"cycle\" (simulation) has \"casts\". Casts are individual simulations that comprise a group, the group is the cycle.  \n",
    "  * cast:cycle as member:ensemble (covered in the ensemble simulation)\n",
    "\n",
    "From `help(wrfhydropy.CycleSimulation)`:\n",
    "```\n",
    "Class for a WRF-Hydro CycleSimulation object. The Cycle Simulation object is used to\n",
    "orchestrate a set of 'N' WRF-Hydro simulations, referred to as 'casts', which only differ\n",
    "in their 1) restart times and 2) their forcings.\n",
    "```\n",
    "\n",
    "I keep the verbiage to a minimum in this example. Please refer to the first example for gory details.\n",
    "\n",
    "## Preliminary"
   ]
  },
  {
   "cell_type": "code",
   "execution_count": 1,
   "metadata": {},
   "outputs": [
    {
     "name": "stderr",
     "output_type": "stream",
     "text": [
      "/glade/work/jamesmcc/python_envs/368_/lib/python3.6/site-packages/dask/config.py:131: YAMLLoadWarning: calling yaml.load() without Loader=... is deprecated, as the default Loader is unsafe. Please read https://msg.pyyaml.org/load for full details.\n",
      "  data = yaml.load(f.read()) or {}\n"
     ]
    }
   ],
   "source": [
    "import datetime\n",
    "import os\n",
    "import pathlib\n",
    "import pickle\n",
    "import subprocess\n",
    "import sys\n",
    "import wrfhydropy"
   ]
  },
  {
   "cell_type": "markdown",
   "metadata": {},
   "source": [
    "## User Configuration\n",
    "This section should be all you need to tailor to your own machine."
   ]
  },
  {
   "cell_type": "code",
   "execution_count": 2,
   "metadata": {},
   "outputs": [],
   "source": [
    "model_repo = pathlib.Path('/glade/u/home/jamesmcc/WRF_Hydro/wrf_hydro_nwm_public')\n",
    "experiment_dir = pathlib.Path('/glade/scratch/jamesmcc/wrfhydropy_cycle_example')\n",
    "if not experiment_dir.exists():\n",
    "    os.mkdir(str(experiment_dir))\n",
    "os.chdir(str(experiment_dir))"
   ]
  },
  {
   "cell_type": "markdown",
   "metadata": {},
   "source": [
    "## Simulation Object\n",
    "First, we build the simulation that serves as the basis for the casts in the cycle.  \n",
    "\n",
    "The domain is pulled from the cloud, just as in the first (end-to-end) example. (Note that this section will not run on a cheyenne compute node as they are not connected to the internet.)"
   ]
  },
  {
   "cell_type": "code",
   "execution_count": 3,
   "metadata": {},
   "outputs": [],
   "source": [
    "domain_dir = experiment_dir / 'domain'\n",
    "if not domain_dir.exists(): \n",
    "    sys.path.append(str(model_repo / 'tests/local/utils'))\n",
    "    from gdrive_download import download_file_from_google_drive\n",
    "    file_id = '1xFYB--zm9f8bFHESzgP5X5i7sZryQzJe'\n",
    "    file_target = 'gdrive_testcase.tar.gz'\n",
    "    download_file_from_google_drive(\n",
    "        file_id, \n",
    "        str(experiment_dir.joinpath(file_target)))\n",
    "    untar_cmd = 'tar -xf ' + file_target + '; mv example_case domain'\n",
    "    subprocess.run(\n",
    "        untar_cmd, \n",
    "        shell=True,\n",
    "        cwd=str(experiment_dir))"
   ]
  },
  {
   "cell_type": "code",
   "execution_count": 4,
   "metadata": {},
   "outputs": [],
   "source": [
    "hrldas_model_side_file = model_repo / 'src/hrldas_namelists.json'\n",
    "hrldas_domain_side_file = domain_dir / 'hrldas_namelist_patches.json'\n",
    "hydro_model_side_file = model_repo / 'src/hydro_namelists.json'\n",
    "hydro_domain_side_file = domain_dir / 'hydro_namelist_patches.json'\n",
    "compile_options_file = model_repo / 'src/compile_options.json'\n",
    "config = 'nwm_ana'"
   ]
  },
  {
   "cell_type": "code",
   "execution_count": 5,
   "metadata": {},
   "outputs": [],
   "source": [
    "domain = wrfhydropy.Domain(\n",
    "    domain_top_dir=domain_dir,\n",
    "    domain_config=config)"
   ]
  },
  {
   "cell_type": "code",
   "execution_count": 6,
   "metadata": {},
   "outputs": [],
   "source": [
    "model = wrfhydropy.Model(\n",
    "    model_repo / 'src',\n",
    "    compiler='ifort',\n",
    "    model_config=config)"
   ]
  },
  {
   "cell_type": "code",
   "execution_count": 7,
   "metadata": {},
   "outputs": [
    {
     "name": "stderr",
     "output_type": "stream",
     "text": [
      "/glade/work/jamesmcc/python_envs/368_/lib/python3.6/site-packages/wrfhydropy-0.0.18-py3.6.egg/wrfhydropy/core/model.py:193: UserWarning: /glade/scratch/jamesmcc/wrfhydropy_cycle_example/compile directory does not exist, creating\n",
      "  warnings.warn(str(self.compile_dir.absolute()) + ' directory does not exist, creating')\n"
     ]
    },
    {
     "name": "stdout",
     "output_type": "stream",
     "text": [
      "Model successfully compiled into /glade/scratch/jamesmcc/wrfhydropy_cycle_example/compile\n"
     ]
    }
   ],
   "source": [
    "compile_dir = experiment_dir / 'compile'\n",
    "if not compile_dir.exists():\n",
    "    model.compile(compile_dir)\n",
    "else: \n",
    "    model = pickle.load(compile_dir.joinpath('WrfHydroModel.pkl').open('rb'))"
   ]
  },
  {
   "cell_type": "code",
   "execution_count": 8,
   "metadata": {},
   "outputs": [],
   "source": [
    "simulation = wrfhydropy.Simulation()\n",
    "simulation.add(model)\n",
    "simulation.add(domain)"
   ]
  },
  {
   "cell_type": "markdown",
   "metadata": {},
   "source": [
    "Note that we dont need to compose or run the Simulation. "
   ]
  },
  {
   "cell_type": "markdown",
   "metadata": {},
   "source": [
    "## Cycle Object\n",
    "The documentation is always a work in progress! Please provide feedback on how to continue to improve it. You'll note that the CycleSimulation documentation actually covers what would be called CycleEnsemble, but it's not described at the top, just mentioned in the arguments. "
   ]
  },
  {
   "cell_type": "code",
   "execution_count": 9,
   "metadata": {},
   "outputs": [
    {
     "name": "stdout",
     "output_type": "stream",
     "text": [
      "Help on class CycleSimulation in module wrfhydropy.core.cycle:\n",
      "\n",
      "class CycleSimulation(builtins.object)\n",
      " |  Class for a WRF-Hydro CycleSimulation object. The Cycle Simulation object is used to\n",
      " |  orchestrate a set of 'N' WRF-Hydro simulations, referred to as 'casts', which only differ\n",
      " |  in their 1) restart times and 2) their forcings.\n",
      " |  \n",
      " |  Methods defined here:\n",
      " |  \n",
      " |  __init__(self, init_times:list, restart_dirs:list, forcing_dirs:list=[], ncores:int=1)\n",
      " |      Instantiate a Cycle object.\n",
      " |      Args:\n",
      " |          init_times: A required list of datetime.datetime objects which specify the\n",
      " |              restart time of each cast in the cycle. (Same for deterministic\n",
      " |              and ensemble cycle simultions).\n",
      " |          restart_dirs:\n",
      " |              Deterministic: a required list of either strings or pathlib.Path objects.\n",
      " |              Ensemble: a required list of lists. The outer list is for the cycles\n",
      " |                  \"casts\" requested in init_times. The inner list is for each ensemble member\n",
      " |                  in the cast.\n",
      " |              The following rules are applied to the individual entires:\n",
      " |              1) A dot or a null string (are identical pathlib.Path objects and) mean\n",
      " |                 \"do nothing\" with respect to the default path in the domain.\n",
      " |              2) An existing path/file is used/kept (a non-existent path is not, gives\n",
      " |                 an error).\n",
      " |              3) A negative integer in units hours, pointing to a previous cast in the\n",
      " |                 cycle.\n",
      " |              4) Other wise, value error raised.\n",
      " |          forcing_dirs: optional\n",
      " |              Deterministic: list of either strings or pathlib.Path objects\n",
      " |              Ensemble: A list of lists, as for restart_dirs.\n",
      " |              See restart_dirs for usage rules.\n",
      " |          ncores: integer number of cores for running parallelizable methods (not the\n",
      " |              casts themselves). For an ensemble cycle, setting this value > 1 will\n",
      " |              force the ensemble.ncores = 1.\n",
      " |  \n",
      " |  __len__(self)\n",
      " |  \n",
      " |  add(self, obj:Union[wrfhydropy.core.simulation.Simulation, wrfhydropy.core.ensemble.EnsembleSimulation, wrfhydropy.core.schedulers.Scheduler, wrfhydropy.core.job.Job])\n",
      " |      Add an approparite object to an CycleSimulation, such as a Simulation, Job, or\n",
      " |      Scheduler.\n",
      " |      Args:\n",
      " |          obj: the object to add.\n",
      " |  \n",
      " |  compose(self, symlink_domain:bool=True, force:bool=False, check_nlst_warn:bool=False, rm_casts_from_memory:bool=True, rm_members_from_memory:bool=True)\n",
      " |      Cycle compose (directories and files to disk)\n",
      " |      Args:\n",
      " |          symlink_domain: Symlink the domain files rather than copy\n",
      " |          force: Compose into directory even if not empty. This is considered bad practice but\n",
      " |          is necessary in certain circumstances.\n",
      " |          rm_casts_from_memory: Most applications will remove the casts from the\n",
      " |          ensemble object upon compose. Testing and other reasons may keep them around.\n",
      " |          check_nlst_warn: Allow the namelist checking/validation to only result in warnings.\n",
      " |          This is also not great practice, but necessary in certain circumstances.\n",
      " |  \n",
      " |  pickle(self, path:str)\n",
      " |      Pickle ensemble sim object to specified file path\n",
      " |      Args:\n",
      " |          path: The file path for pickle\n",
      " |  \n",
      " |  rm_casts(self)\n",
      " |      Remove members from memory, replace with their paths.\n",
      " |  \n",
      " |  run(self, n_concurrent:int=1, teams:bool=False, teams_exe_cmd:str=None, teams_exe_cmd_nproc:int=None, teams_node_file:dict=None, env:dict=None, teams_dict:dict=None)\n",
      " |      Run the cycle of simulations.\n",
      " |      Inputs:\n",
      " |          n_concurrent: int = 1, Only used for non-team runs.\n",
      " |          teams: bool = False, Use teams?\n",
      " |          teams_exe_cmd: str, The mpi-specific syntax needed. For\n",
      " |              example: 'mpirun --host {hostname} -np {nproc} {cmd}'\n",
      " |          teams_exe_cmd_nproc: int, The number of cores per model/wrf_hydro\n",
      " |              simulation to be run.\n",
      " |          teams_node_file: dict = None, Optional file that acts like a node\n",
      " |              file. It is not currently implemented but the key specifies the\n",
      " |              scheduler format that the file follows. An example pbs node\n",
      " |              file is in tests/data and this argument is used here to test\n",
      " |              without a sched.\n",
      " |          env: dict = None, optional envionment to pass to the run.\n",
      " |          teams_dict: dict, Skip the arguments if you already have a\n",
      " |              teams_dict to use (backwards compatibility)\n",
      " |      Outputs: 0 for success.\n",
      " |  \n",
      " |  ----------------------------------------------------------------------\n",
      " |  Data descriptors defined here:\n",
      " |  \n",
      " |  __dict__\n",
      " |      dictionary for instance variables (if defined)\n",
      " |  \n",
      " |  __weakref__\n",
      " |      list of weak references to the object (if defined)\n",
      "\n"
     ]
    }
   ],
   "source": [
    "help(wrfhydropy.CycleSimulation)"
   ]
  },
  {
   "cell_type": "markdown",
   "metadata": {},
   "source": [
    "To initialize (`__init__`) a CycleSimulation, there are two required arguments. The `init_times` argument is a list of times (datetimes) at which the model will restart. We will make this every 6 hours (below we'll set the job run duration to 12 hours). The second is `restart_dirs`, a list of directories where each cast is to find it's restart files. In this case we will use the previous cast (at 6 hours prior)."
   ]
  },
  {
   "cell_type": "code",
   "execution_count": 10,
   "metadata": {},
   "outputs": [
    {
     "data": {
      "text/plain": [
       "[datetime.datetime(2011, 8, 26, 0, 0),\n",
       " datetime.datetime(2011, 8, 26, 6, 0),\n",
       " datetime.datetime(2011, 8, 26, 12, 0),\n",
       " datetime.datetime(2011, 8, 26, 18, 0)]"
      ]
     },
     "execution_count": 10,
     "metadata": {},
     "output_type": "execute_result"
    }
   ],
   "source": [
    "init_times = [datetime.datetime(2011, 8, 26, 0) + \n",
    "              datetime.timedelta(hours=hh) for hh in range(0, 24, 6)]\n",
    "init_times"
   ]
  },
  {
   "cell_type": "markdown",
   "metadata": {},
   "source": [
    "Since the first cast has no previous cast, we just use the existing restarts at that time. "
   ]
  },
  {
   "cell_type": "code",
   "execution_count": 11,
   "metadata": {},
   "outputs": [
    {
     "data": {
      "text/plain": [
       "['.', -6, -6, -6]"
      ]
     },
     "execution_count": 11,
     "metadata": {},
     "output_type": "execute_result"
    }
   ],
   "source": [
    "restart_dirs = ['.'] + ([-6] * (len(init_times)-1))\n",
    "restart_dirs"
   ]
  },
  {
   "cell_type": "markdown",
   "metadata": {},
   "source": [
    "Instantiate the CycleSimulation object with the required arguments."
   ]
  },
  {
   "cell_type": "code",
   "execution_count": 12,
   "metadata": {},
   "outputs": [],
   "source": [
    "cycle = wrfhydropy.CycleSimulation(\n",
    "    init_times=init_times, restart_dirs=restart_dirs)"
   ]
  },
  {
   "cell_type": "markdown",
   "metadata": {},
   "source": [
    "Now we have a CycleSimulation to which we need to add our simulation (above) and a job."
   ]
  },
  {
   "cell_type": "code",
   "execution_count": 13,
   "metadata": {},
   "outputs": [],
   "source": [
    "exe_cmd = 'mpirun -np 1 ./wrf_hydro.exe'\n",
    "job_cycle = wrfhydropy.Job(\n",
    "    job_id='cycle',\n",
    "    exe_cmd=exe_cmd,\n",
    "    model_start_time=init_times[0],\n",
    "    model_end_time=init_times[0] + datetime.timedelta(hours=12),\n",
    "    restart=True,\n",
    "    restart_freq_hr=6,\n",
    "    output_freq_hr=1)\n",
    "\n",
    "cycle.add(simulation)\n",
    "cycle.add(job_cycle)"
   ]
  },
  {
   "cell_type": "markdown",
   "metadata": {},
   "source": [
    "If we consider the job \"ready to go\", we can compose it to disk. This compose step follows the same pattern as a Simulation. "
   ]
  },
  {
   "cell_type": "code",
   "execution_count": 14,
   "metadata": {},
   "outputs": [
    {
     "name": "stdout",
     "output_type": "stream",
     "text": [
      "Composing simulation into directory:'/glade/scratch/jamesmcc/wrfhydropy_cycle_example/cycle/cast_2011082600'\n",
      "Getting domain files...\n",
      "Making job directories...\n",
      "Validating job input files\n",
      "cycle\n",
      "Model already compiled, copying files...\n",
      "Simulation successfully composed\n",
      "Composing simulation into directory:'/glade/scratch/jamesmcc/wrfhydropy_cycle_example/cycle/cast_2011082606'\n",
      "Getting domain files...\n",
      "Making job directories...\n",
      "Validating job input files\n",
      "cycle\n",
      "Model already compiled, copying files...\n",
      "Simulation successfully composed\n",
      "Composing simulation into directory:'/glade/scratch/jamesmcc/wrfhydropy_cycle_example/cycle/cast_2011082612'\n",
      "Getting domain files...\n",
      "Making job directories...\n",
      "Validating job input files\n",
      "cycle\n",
      "Model already compiled, copying files...\n",
      "Simulation successfully composed\n",
      "Composing simulation into directory:'/glade/scratch/jamesmcc/wrfhydropy_cycle_example/cycle/cast_2011082618'\n",
      "Getting domain files...\n",
      "Making job directories...\n",
      "Validating job input files\n",
      "cycle\n",
      "Model already compiled, copying files...\n",
      "Simulation successfully composed\n"
     ]
    }
   ],
   "source": [
    "cycle_dir = experiment_dir / 'cycle'\n",
    "os.mkdir(cycle_dir)\n",
    "os.chdir(cycle_dir)\n",
    "cycle.compose()"
   ]
  },
  {
   "cell_type": "markdown",
   "metadata": {},
   "source": [
    "As with Simulation objects, this time between compose (to disk) and run is a critical point for the user to look at the runs and verify that everything is configured correctly. \n",
    "\n",
    "Since these cycles are dependent on each other, we can not run them in parallel. We perform a serial, interactive run here. (Other run modes will be shown in subsequent examples)."
   ]
  },
  {
   "cell_type": "code",
   "execution_count": 15,
   "metadata": {},
   "outputs": [
    {
     "name": "stdout",
     "output_type": "stream",
     "text": [
      "\n",
      "Running job cycle: \n",
      "    Wall start time: 2020-04-08 23:18:08\n",
      "    Model start time: 2011-08-26 00:00\n",
      "    Model end time: 2011-08-26 12:00\n",
      "\n",
      "Running job cycle: \n",
      "    Wall start time: 2020-04-08 23:18:15\n",
      "    Model start time: 2011-08-26 06:00\n",
      "    Model end time: 2011-08-26 18:00\n",
      "\n",
      "Running job cycle: \n",
      "    Wall start time: 2020-04-08 23:18:20\n",
      "    Model start time: 2011-08-26 12:00\n",
      "    Model end time: 2011-08-27 00:00\n",
      "\n",
      "Running job cycle: \n",
      "    Wall start time: 2020-04-08 23:18:27\n",
      "    Model start time: 2011-08-26 18:00\n",
      "    Model end time: 2011-08-27 06:00\n"
     ]
    },
    {
     "data": {
      "text/plain": [
       "0"
      ]
     },
     "execution_count": 15,
     "metadata": {},
     "output_type": "execute_result"
    }
   ],
   "source": [
    "cycle.run()"
   ]
  },
  {
   "cell_type": "markdown",
   "metadata": {},
   "source": [
    "## Cycle Collection\n",
    "I have not yet implemented a syntactic sugar version for more complicated objects than Simulations.... so we do this the \"unchained\" or \"old fashioned\" way. "
   ]
  },
  {
   "cell_type": "code",
   "execution_count": 16,
   "metadata": {},
   "outputs": [
    {
     "name": "stdout",
     "output_type": "stream",
     "text": [
      "n_files 48\n"
     ]
    }
   ],
   "source": [
    "chanobs_files = sorted(cycle_dir.glob('*/*CHANOBS*'))\n",
    "cycle_chanobs_ds = wrfhydropy.open_whp_dataset(chanobs_files)"
   ]
  },
  {
   "cell_type": "markdown",
   "metadata": {},
   "source": [
    "Note that the `open_whp_dataset` function handles the dimensions of the cycle and that the time **dimensions** are `lead_time` and `reference_time` and `valid_time` is a variable with those dimensions. "
   ]
  },
  {
   "cell_type": "code",
   "execution_count": 17,
   "metadata": {},
   "outputs": [
    {
     "data": {
      "text/html": [
       "<pre>&lt;xarray.Dataset&gt;\n",
       "Dimensions:         (feature_id: 4, lead_time: 12, reference_time: 4)\n",
       "Coordinates:\n",
       "    latitude        (feature_id) float32 41.470795 41.473614 41.449814 41.40192\n",
       "    longitude       (feature_id) float32 -73.76059 -73.69085 -73.73565 -73.68741\n",
       "  * reference_time  (reference_time) datetime64[ns] 2011-08-26 ... 2011-08-26T18:00:00\n",
       "  * feature_id      (feature_id) int32 6226948 6226964 6227008 6227150\n",
       "  * lead_time       (lead_time) timedelta64[ns] 01:00:00 02:00:00 ... 12:00:00\n",
       "Data variables:\n",
       "    crs             (lead_time, reference_time) |S1 b&#x27;&#x27; b&#x27;&#x27; b&#x27;&#x27; ... b&#x27;&#x27; b&#x27;&#x27; b&#x27;&#x27;\n",
       "    order           (lead_time, reference_time, feature_id) int32 3 2 4 ... 4 4\n",
       "    elevation       (lead_time, reference_time, feature_id) float32 180.48 ... 147.61\n",
       "    streamflow      (lead_time, reference_time, feature_id) float32 0.16395454 ... 12.969116\n",
       "    valid_time      (lead_time, reference_time) datetime64[ns] 2011-08-26T01:00:00 ... 2011-08-27T06:00:00\n",
       "Attributes:\n",
       "    featureType:        timeSeries\n",
       "    proj4:              +proj=lcc +units=m +a=6370000.0 +b=6370000.0 +lat_1=3...\n",
       "    station_dimension:  feature_id\n",
       "    Conventions:        CF-1.6</pre>"
      ],
      "text/plain": [
       "<xarray.Dataset>\n",
       "Dimensions:         (feature_id: 4, lead_time: 12, reference_time: 4)\n",
       "Coordinates:\n",
       "    latitude        (feature_id) float32 41.470795 41.473614 41.449814 41.40192\n",
       "    longitude       (feature_id) float32 -73.76059 -73.69085 -73.73565 -73.68741\n",
       "  * reference_time  (reference_time) datetime64[ns] 2011-08-26 ... 2011-08-26T18:00:00\n",
       "  * feature_id      (feature_id) int32 6226948 6226964 6227008 6227150\n",
       "  * lead_time       (lead_time) timedelta64[ns] 01:00:00 02:00:00 ... 12:00:00\n",
       "Data variables:\n",
       "    crs             (lead_time, reference_time) |S1 b'' b'' b'' ... b'' b'' b''\n",
       "    order           (lead_time, reference_time, feature_id) int32 3 2 4 ... 4 4\n",
       "    elevation       (lead_time, reference_time, feature_id) float32 180.48 ... 147.61\n",
       "    streamflow      (lead_time, reference_time, feature_id) float32 0.16395454 ... 12.969116\n",
       "    valid_time      (lead_time, reference_time) datetime64[ns] 2011-08-26T01:00:00 ... 2011-08-27T06:00:00\n",
       "Attributes:\n",
       "    featureType:        timeSeries\n",
       "    proj4:              +proj=lcc +units=m +a=6370000.0 +b=6370000.0 +lat_1=3...\n",
       "    station_dimension:  feature_id\n",
       "    Conventions:        CF-1.6"
      ]
     },
     "execution_count": 17,
     "metadata": {},
     "output_type": "execute_result"
    }
   ],
   "source": [
    "cycle_chanobs_ds"
   ]
  },
  {
   "cell_type": "markdown",
   "metadata": {},
   "source": [
    "## Plot\n",
    "Put `valid_time` into the coordinates so that it can be plotted against."
   ]
  },
  {
   "cell_type": "code",
   "execution_count": 18,
   "metadata": {},
   "outputs": [
    {
     "data": {
      "text/html": [
       "<pre>&lt;xarray.Dataset&gt;\n",
       "Dimensions:         (feature_id: 4, lead_time: 12, reference_time: 4)\n",
       "Coordinates:\n",
       "    latitude        (feature_id) float32 41.470795 41.473614 41.449814 41.40192\n",
       "    longitude       (feature_id) float32 -73.76059 -73.69085 -73.73565 -73.68741\n",
       "  * reference_time  (reference_time) datetime64[ns] 2011-08-26 ... 2011-08-26T18:00:00\n",
       "  * feature_id      (feature_id) int32 6226948 6226964 6227008 6227150\n",
       "  * lead_time       (lead_time) timedelta64[ns] 01:00:00 02:00:00 ... 12:00:00\n",
       "    valid_time      (lead_time, reference_time) datetime64[ns] 2011-08-26T01:00:00 ... 2011-08-27T06:00:00\n",
       "Data variables:\n",
       "    crs             (lead_time, reference_time) |S1 b&#x27;&#x27; b&#x27;&#x27; b&#x27;&#x27; ... b&#x27;&#x27; b&#x27;&#x27; b&#x27;&#x27;\n",
       "    order           (lead_time, reference_time, feature_id) int32 3 2 4 ... 4 4\n",
       "    elevation       (lead_time, reference_time, feature_id) float32 180.48 ... 147.61\n",
       "    streamflow      (lead_time, reference_time, feature_id) float32 0.16395454 ... 12.969116\n",
       "Attributes:\n",
       "    featureType:        timeSeries\n",
       "    proj4:              +proj=lcc +units=m +a=6370000.0 +b=6370000.0 +lat_1=3...\n",
       "    station_dimension:  feature_id\n",
       "    Conventions:        CF-1.6</pre>"
      ],
      "text/plain": [
       "<xarray.Dataset>\n",
       "Dimensions:         (feature_id: 4, lead_time: 12, reference_time: 4)\n",
       "Coordinates:\n",
       "    latitude        (feature_id) float32 41.470795 41.473614 41.449814 41.40192\n",
       "    longitude       (feature_id) float32 -73.76059 -73.69085 -73.73565 -73.68741\n",
       "  * reference_time  (reference_time) datetime64[ns] 2011-08-26 ... 2011-08-26T18:00:00\n",
       "  * feature_id      (feature_id) int32 6226948 6226964 6227008 6227150\n",
       "  * lead_time       (lead_time) timedelta64[ns] 01:00:00 02:00:00 ... 12:00:00\n",
       "    valid_time      (lead_time, reference_time) datetime64[ns] 2011-08-26T01:00:00 ... 2011-08-27T06:00:00\n",
       "Data variables:\n",
       "    crs             (lead_time, reference_time) |S1 b'' b'' b'' ... b'' b'' b''\n",
       "    order           (lead_time, reference_time, feature_id) int32 3 2 4 ... 4 4\n",
       "    elevation       (lead_time, reference_time, feature_id) float32 180.48 ... 147.61\n",
       "    streamflow      (lead_time, reference_time, feature_id) float32 0.16395454 ... 12.969116\n",
       "Attributes:\n",
       "    featureType:        timeSeries\n",
       "    proj4:              +proj=lcc +units=m +a=6370000.0 +b=6370000.0 +lat_1=3...\n",
       "    station_dimension:  feature_id\n",
       "    Conventions:        CF-1.6"
      ]
     },
     "execution_count": 18,
     "metadata": {},
     "output_type": "execute_result"
    }
   ],
   "source": [
    "cycle_chanobs_ds = cycle_chanobs_ds.set_coords('valid_time')\n",
    "cycle_chanobs_ds"
   ]
  },
  {
   "cell_type": "markdown",
   "metadata": {},
   "source": [
    "Do the easiest plotting thing possible."
   ]
  },
  {
   "cell_type": "code",
   "execution_count": 20,
   "metadata": {},
   "outputs": [
    {
     "data": {
      "text/plain": [
       "<xarray.plot.facetgrid.FacetGrid at 0x2b6f4b0aea20>"
      ]
     },
     "execution_count": 20,
     "metadata": {},
     "output_type": "execute_result"
    },
    {
     "data": {
      "image/png": "[encoded data removed]",
      "text/plain": [
       "<Figure size 944.5x288 with 4 Axes>"
      ]
     },
     "metadata": {
      "needs_background": "light"
     },
     "output_type": "display_data"
    }
   ],
   "source": [
    "(cycle_chanobs_ds.streamflow.plot\n",
    "    .line(x='valid_time', col='reference_time', hue='feature_id', \n",
    "          col_wrap=2,\n",
    "          figsize=(12, 4)))"
   ]
  }
 ],
 "metadata": {
  "kernelspec": {
   "display_name": "Python 3 (ipykernel)",
   "language": "python",
   "name": "python3"
  },
  "language_info": {
   "codemirror_mode": {
    "name": "ipython",
    "version": 3
   },
   "file_extension": ".py",
   "mimetype": "text/x-python",
   "name": "python",
   "nbconvert_exporter": "python",
   "pygments_lexer": "ipython3",
   "version": "3.9.12"
  }
 },
 "nbformat": 4,
 "nbformat_minor": 4
}
